{
 "cells": [
  {
   "cell_type": "markdown",
   "metadata": {},
   "source": [
    "%%writefile README.md\n",
    "\n",
    "# CarND Extended Kalman Filter Project\n",
    "\n",
    "[//]: # (Image References)\n",
    "[image1]: ./out_Images/EKF-L.png\n",
    "[image2]: ./out_Images/EKF-R.png\n",
    "[image3]: ./out_Images/EKF-LR.png\n",
    "[image4]: ./out_Images/EKF-LR_Reverse.png\n",
    "\n",
    "\n",
    "\n",
    "---\n",
    "This project is an implementation of a sensor fusion algorithm based on Extended Kalman filter for object tracking combining Lidar and Radar sensors.\n",
    "\n",
    "---\n",
    "### Project Goals\n",
    "This project aims to explore Kalman filter contribution in sensor fusion while combining two different sensors, Lidar and here I assume a linear motion model, and Radar sensor and I use non-linear motion model and the steps as following:\n",
    "\n",
    "1. Initialize the Kalman Parameter and initial state.\n",
    "2. Predict the next state and covariance.\n",
    "3. Update the state based on sensor type.\n",
    "\n",
    "### Build instructions\n",
    "1. Clone this repo.\n",
    "2. Make a build directory: mkdir build && cd build\n",
    "3. Compile: cmake .. && make\n",
    "4. Run it: ./ExtendedKF\n",
    "\n",
    "---\n",
    "\n",
    "\n",
    "## Results\n",
    "\n",
    "The Algorithm is tested with single sensor and both Lidar and radar sensor. the images below shows the tracking performance in each test as the vertical axis in the y axis and the horizontal axes in the x axis and the Residual error is calculated by root mean square error. the system shows higher RMSE in test 1 and 2 in using either radar or lidar and the accuracy in Lidar is higher than the radar in estimating the position but almost the same in estimating velocity.  In combining both sensors the accuracy increased and RMSE decreased to below the required level. \n",
    "\n",
    "RMSe| Laser | Radar| Laser and Radar\n",
    "------------|------------------------\n",
    "X   | .1840 |.2508 |  .0974\n",
    "Y   | .1534 |.2858 |  .0855\n",
    "vX  | .6056 |.6075 |  .4517\n",
    "vY  | .0486 |.6942 |  .4404\n",
    "\n",
    "![alt text][image1]\n",
    "![alt text][image2]\n",
    "![alt text][image3]\n",
    "![alt text][image4]\n",
    "\n"
   ]
  }
 ],
 "metadata": {
  "kernelspec": {
   "display_name": "Python 3",
   "language": "python",
   "name": "python3"
  },
  "language_info": {
   "codemirror_mode": {
    "name": "ipython",
    "version": 3
   },
   "file_extension": ".py",
   "mimetype": "text/x-python",
   "name": "python",
   "nbconvert_exporter": "python",
   "pygments_lexer": "ipython3",
   "version": "3.6.2"
  }
 },
 "nbformat": 4,
 "nbformat_minor": 2
}
